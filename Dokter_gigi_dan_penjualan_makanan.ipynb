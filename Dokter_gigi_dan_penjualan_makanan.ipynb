{
  "nbformat": 4,
  "nbformat_minor": 0,
  "metadata": {
    "colab": {
      "provenance": []
    },
    "kernelspec": {
      "name": "python3",
      "display_name": "Python 3"
    },
    "language_info": {
      "name": "python"
    }
  },
  "cells": [
    {
      "cell_type": "code",
      "execution_count": null,
      "metadata": {
        "id": "gZRGPzbq68lz"
      },
      "outputs": [],
      "source": [
        "# Import pandas \n",
        "import pandas as pd\n",
        "# Baca kedua dataset\n",
        "df_kunjungan = pd.read_csv(\"https://storage.googleapis.com/dqlab-dataset/kunjungan_dokter_gigi_kota_x_dqlab.tsv\", sep=\"\\t\")\n",
        "df_penjualan = pd.read_csv(\"https://storage.googleapis.com/dqlab-dataset/tingkat_penjualan_kota_x_dqlab.tsv\", sep=\"\\t\")\n",
        "\n",
        "# Gabungkan kolom Tahun dan Bulan menjadi kolom Periode dengan isi tiap barisnya memiliki format YYYY-MM \n",
        "str_bulan = lambda x: \"0\"+str(x) if x<10 else str(x)\n",
        "df_kunjungan[\"Periode\"] = df_kunjungan[\"Tahun\"].map(str) + \"-\" + df_kunjungan[\"Bulan\"].map(str_bulan)\n",
        "df_penjualan[\"Periode\"] = df_penjualan[\"Tahun\"].map(str) + \"-\" + df_penjualan[\"Bulan\"].map(str_bulan)\n",
        "# Drop kolom Tahun, Bulan dari df_kunjungan\n",
        "df_kunjungan.drop(columns=[\"Tahun\", \"Bulan\"], inplace=True)\n",
        "# Drop kolom Tahun, Bulan dan No dari df_penjualan\n",
        "df_penjualan.drop(columns=[\"Tahun\", \"Bulan\", \"No\"], inplace=True)\n",
        "# Set index kolom Periode\n",
        "df_kunjungan.set_index(\"Periode\", inplace=True)\n",
        "df_penjualan.set_index(\"Periode\", inplace=True)\n",
        "# Gabungkan kedua dataframe dengan Periode yang telah menjadi key column nya\n",
        "df = df_kunjungan.join(df_penjualan)\n",
        "# Import matplotlib.pyplot sebagai alias"
      ]
    },
    {
      "cell_type": "code",
      "source": [
        "# Import pandas \n",
        "import pandas as pd\n",
        "pd.set_option(\"display.max_columns\",5)\n",
        "# Baca kedua dataset\n",
        "df_kunjungan = pd.read_csv(\"https://storage.googleapis.com/dqlab-dataset/kunjungan_dokter_gigi_kota_x_dqlab.tsv\", sep=\"\\t\")\n",
        "df_penjualan = pd.read_csv(\"https://storage.googleapis.com/dqlab-dataset/tingkat_penjualan_kota_x_dqlab.tsv\", sep=\"\\t\")\n",
        "# Gabungkan kolom Tahun dan Bulan menjadi kolom Periode dengan isi tiap barisnya memiliki format YYYY-MM \n",
        "str_bulan = lambda x: \"0\"+str(x) if x<10 else str(x)\n",
        "df_kunjungan[\"Periode\"] = df_kunjungan[\"Tahun\"].map(str) + \"-\" + df_kunjungan[\"Bulan\"].map(str_bulan)\n",
        "df_penjualan[\"Periode\"] = df_penjualan[\"Tahun\"].map(str) + \"-\" + df_penjualan[\"Bulan\"].map(str_bulan)\n",
        "\n",
        "df = (\n",
        "       df.drop(columns=['Tahun', 'Bulan'])\n",
        "       .set_index('Periode')\n",
        "       .join(df_penjualan.drop(columns=['Tahun', 'Bulan', 'No'])\n",
        "                         .set_index('Periode')\n",
        "       )\n",
        "     )\n",
        "print(\"Ukuran df:\", df.shape)\n",
        "print(df)\n",
        "\n",
        "\n",
        "import matplotlib.pyplot as plt\n",
        "# Kolom x adalah kolom dengan awalan penjualan\n",
        "x_cols = df.columns[1:]\n",
        "# Kolom y merupakan kolom tingkat kunjungan ke dokter gigi\n",
        "y_col = \"tingkat kunjungan ke dokter gigi\"\n",
        "# Buat visualisasi \n",
        "fig, axs = plt.subplots(len(x_cols), 1, figsize=(8,12))\n",
        "for ax, x_col in zip(axs, x_cols):\n",
        "    # Plotkan dengan scatter\n",
        "    df.plot.scatter(x=x_col, y=y_col, c=\"darkcyan\", s=60, ax=ax)\n",
        "    ax.set_xlabel(x_col, fontsize=14)\n",
        "    ax.set_ylabel(y_col, fontsize=14)\n",
        "    ax.grid()\n",
        "plt.tight_layout()\n",
        "plt.show()\n",
        "\n",
        "print(\"Koefisien korelasi Pearson:\")\n",
        "print(\"---------------------------\")\n",
        "print(df.corr()[\"tingkat kunjungan ke dokter gigi\"])"
      ],
      "metadata": {
        "id": "iillmlLUCQ-m"
      },
      "execution_count": null,
      "outputs": []
    },
    {
      "cell_type": "markdown",
      "source": [
        "Teknik chaining"
      ],
      "metadata": {
        "id": "kt7tTyVDCceo"
      }
    },
    {
      "cell_type": "code",
      "source": [
        "df = (\n",
        "       df.drop(columns=['Tahun', 'Bulan'])\n",
        "       .set_index('Periode')\n",
        "       .join(df_penjualan.drop(columns=['Tahun', 'Bulan', 'No'])\n",
        "                         .set_index('Periode')\n",
        "       )\n",
        "     )"
      ],
      "metadata": {
        "id": "Eo4omPCMCdoP"
      },
      "execution_count": null,
      "outputs": []
    },
    {
      "cell_type": "markdown",
      "source": [
        "koefisien korelasi Pearson"
      ],
      "metadata": {
        "id": "bWZOMJXzC918"
      }
    },
    {
      "cell_type": "code",
      "source": [
        "print(\"Koefisien korelasi Pearson:\")\n",
        "print(\"---------------------------\")\n",
        "print(df.corr()[\"tingkat kunjungan ke dokter gigi\"])"
      ],
      "metadata": {
        "id": "MvEMMXwdC3LK"
      },
      "execution_count": null,
      "outputs": []
    },
    {
      "cell_type": "markdown",
      "source": [
        "# The Delayed Effect\n",
        "Untuk mewujudkan hal itu, aku mencari relasi tersebut dengan memasangkan butir data pertama penjualan permen pada bulan Januari 1996 dengan butir data kedua tingkat kunjungan ke dokter gigi (bulan Februari 1996). Pemasangan ini disebut dengan efek keterlambatan (delayed effect) selama 1 bulan. Hal ini akan aku lakukan hingga bulan September 1996 pada tingkat kunjungan ke dokter gigi untuk mengetahui efek keterlambatan yang lebih lama yaitu 8 bulan."
      ],
      "metadata": {
        "id": "bkOeZaEFgzJE"
      }
    },
    {
      "cell_type": "code",
      "source": [
        "# Import pandas \n",
        "import pandas as pd\n",
        "# Baca kedua dataset\n",
        "df_kunjungan = pd.read_csv(\"https://storage.googleapis.com/dqlab-dataset/kunjungan_dokter_gigi_kota_x_dqlab.tsv\", sep=\"\\t\")\n",
        "df_penjualan = pd.read_csv(\"https://storage.googleapis.com/dqlab-dataset/tingkat_penjualan_kota_x_dqlab.tsv\", sep=\"\\t\")\n",
        "# Gabungkan kolom Tahun dan Bulan menjadi kolom Periode dengan isi tiap barisnya memiliki format YYYY-MM \n",
        "str_bulan = lambda x: \"0\"+str(x) if x<10 else str(x)\n",
        "df_kunjungan[\"Periode\"] = df_kunjungan[\"Tahun\"].map(str) + \"-\" + df_kunjungan[\"Bulan\"].map(str_bulan)\n",
        "df_penjualan[\"Periode\"] = df_penjualan[\"Tahun\"].map(str) + \"-\" + df_penjualan[\"Bulan\"].map(str_bulan)\n",
        "# Drop kolom Tahun, Bulan dari df_kunjungan\n",
        "df_kunjungan.drop(columns=[\"Tahun\", \"Bulan\"], inplace=True)\n",
        "# Drop kolom Tahun, Bulan dan No dari df_penjualan\n",
        "df_penjualan.drop(columns=[\"Tahun\", \"Bulan\", \"No\"], inplace=True)\n",
        "# Set index kolom Periode\n",
        "df_kunjungan.set_index(\"Periode\", inplace=True)\n",
        "df_penjualan.set_index(\"Periode\", inplace=True)\n",
        "# Gabungkan kedua dataframe dengan Periode yang telah menjadi key column nya\n",
        "df = df_kunjungan.join(df_penjualan)\n",
        "\n",
        "\n",
        "import matplotlib.pyplot as plt\n",
        "# import stats dari scipy\n",
        "from scipy import stats\n",
        "\n",
        "# Spesifikasi keterlambatan hingga 8 bulan\n",
        "n_delays = 8\n",
        "# Spesifikasi jumlah kolom untuk subplots\n",
        "n_plt_cols = 2\n",
        "fig, axs = plt.subplots(round(n_delays/2), n_plt_cols, figsize=(12, 3.5*round(n_delays/2)), sharey=True)\n",
        "for i in range(n_delays):\n",
        "    # Ingat: varibel bebas dan variabel bergantung harus memiliki ukuran yang sama\n",
        "    # Ambilah variabel bebas: penjualan permen\n",
        "    x = df[\"penjualan permen\"][:-(i+1)]\n",
        "    # Ambilah variabel bergantung: tingkat kunjungan ke dokter gigi dan implementasikan keterlambatan\n",
        "    y = df[\"tingkat kunjungan ke dokter gigi\"][i+1:]\n",
        "    # Hitung koefisien korelasi Pearson\n",
        "    pearson_r, p_value = stats.pearsonr(x, y) # Method ini akan mengembalikan dua output, yaitu koefisien korelasi Pearson dan p-value.\n",
        "    # Buat title setiap subplots dan juga tambatkan nilai  \n",
        "    # koefisien korelasi Pearson yang telah dihitung\n",
        "    title = \"Efek keterlambatan %d bulan (r = %.2f)\" % (i+1, pearson_r)\n",
        "    \n",
        "    # Buat scatter plot\n",
        "    ax = axs[i // n_plt_cols][i % n_plt_cols]\n",
        "    ax.scatter(x, y, c=\"darkcyan\")\n",
        "    ax.set_title(title, fontsize=14, color=\"maroon\")\n",
        "    if i % n_plt_cols == 0:\n",
        "        ax.set_ylabel(\"tingkat kunjungan ke dokter gigi\", fontsize=12)\n",
        "    ax.set_xlabel(\"penjualan permen\", fontsize=12)\n",
        "    ax.set_xlim([120000, 480000])\n",
        "    ax.grid()\n",
        "\n",
        "plt.tight_layout()\n",
        "plt.show()"
      ],
      "metadata": {
        "id": "5n7drSiVg1wP"
      },
      "execution_count": null,
      "outputs": []
    },
    {
      "cell_type": "markdown",
      "source": [
        "# Menentukan Persamaan Linier"
      ],
      "metadata": {
        "id": "Tw_ikyWEh-he"
      }
    },
    {
      "cell_type": "code",
      "source": [
        "# Import pandas \n",
        "import pandas as pd\n",
        "# Baca kedua dataset\n",
        "df_kunjungan = pd.read_csv(\"https://storage.googleapis.com/dqlab-dataset/kunjungan_dokter_gigi_kota_x_dqlab.tsv\", sep=\"\\t\")\n",
        "df_penjualan = pd.read_csv(\"https://storage.googleapis.com/dqlab-dataset/tingkat_penjualan_kota_x_dqlab.tsv\", sep=\"\\t\")\n",
        "# Gabungkan kolom Tahun dan Bulan menjadi kolom Periode dengan isi tiap barisnya memiliki format YYYY-MM \n",
        "str_bulan = lambda x: \"0\"+str(x) if x<10 else str(x)\n",
        "df_kunjungan[\"Periode\"] = df_kunjungan[\"Tahun\"].map(str) + \"-\" + df_kunjungan[\"Bulan\"].map(str_bulan)\n",
        "df_penjualan[\"Periode\"] = df_penjualan[\"Tahun\"].map(str) + \"-\" + df_penjualan[\"Bulan\"].map(str_bulan)\n",
        "# Drop kolom Tahun, Bulan dari df_kunjungan\n",
        "df_kunjungan.drop(columns=[\"Tahun\", \"Bulan\"], inplace=True)\n",
        "# Drop kolom Tahun, Bulan dan No dari df_penjualan\n",
        "df_penjualan.drop(columns=[\"Tahun\", \"Bulan\", \"No\"], inplace=True)\n",
        "# Set index kolom Periode\n",
        "df_kunjungan.set_index(\"Periode\", inplace=True)\n",
        "df_penjualan.set_index(\"Periode\", inplace=True)\n",
        "# Gabungkan kedua dataframe dengan Periode yang telah menjadi key column nya\n",
        "df = df_kunjungan.join(df_penjualan)\n",
        "\n",
        "# Import numpy sebagai aliasnya np\n",
        "import numpy as np\n",
        "# Ambillah variabel bebas dan bergantung df untuk keterlambatan 4 bulan\n",
        "# dan ubahlah menjadi numpy 1d narray\n",
        "x = df[\"penjualan permen\"][:-4].to_numpy()\n",
        "y = df[\"tingkat kunjungan ke dokter gigi\"][4:].to_numpy()\n",
        "\n",
        "# Hitunglah nilai rata-rata variabel bebas dan bergantung\n",
        "x_mean = x.mean()\n",
        "y_mean = y.mean()\n",
        "\n",
        "# Hitung nilai pembilang dan penyebut untuk m\n",
        "m_pembilang = ((x - x_mean) * (y - y_mean)).sum()\n",
        "m_penyebut = ((x - x_mean)**2).sum()\n",
        "\n",
        "# Hitung nilai koefisien regresi linier\n",
        "m = m_pembilang / m_penyebut\n",
        "b = y_mean - m * x_mean\n",
        "print(\"Persamaan regresi linier: y = %.4e * x + %.4f\" % (m, b))"
      ],
      "metadata": {
        "id": "B2yuxvn5iYNc"
      },
      "execution_count": null,
      "outputs": []
    },
    {
      "cell_type": "markdown",
      "source": [
        "# Prediksi Tingkat Kunjungan"
      ],
      "metadata": {
        "id": "CbPSTcEsi7zo"
      }
    },
    {
      "cell_type": "code",
      "source": [
        "# Import pandas dan numpy\n",
        "import pandas as pd\n",
        "import numpy as np\n",
        "# Baca kedua dataset\n",
        "df_kunjungan = pd.read_csv(\"https://storage.googleapis.com/dqlab-dataset/kunjungan_dokter_gigi_kota_x_dqlab.tsv\", sep=\"\\t\")\n",
        "df_penjualan = pd.read_csv(\"https://storage.googleapis.com/dqlab-dataset/tingkat_penjualan_kota_x_dqlab.tsv\", sep=\"\\t\")\n",
        "# Gabungkan kolom Tahun dan Bulan menjadi kolom Periode dengan isi tiap barisnya memiliki format YYYY-MM \n",
        "str_bulan = lambda x: \"0\"+str(x) if x<10 else str(x)\n",
        "df_kunjungan[\"Periode\"] = df_kunjungan[\"Tahun\"].map(str) + \"-\" + df_kunjungan[\"Bulan\"].map(str_bulan)\n",
        "df_penjualan[\"Periode\"] = df_penjualan[\"Tahun\"].map(str) + \"-\" + df_penjualan[\"Bulan\"].map(str_bulan)\n",
        "# Drop kolom Tahun, Bulan dari df_kunjungan\n",
        "df_kunjungan.drop(columns=[\"Tahun\", \"Bulan\"], inplace=True)\n",
        "# Drop kolom Tahun, Bulan dan No dari df_penjualan\n",
        "df_penjualan.drop(columns=[\"Tahun\", \"Bulan\", \"No\"], inplace=True)\n",
        "# Set index kolom Periode\n",
        "df_kunjungan.set_index(\"Periode\", inplace=True)\n",
        "df_penjualan.set_index(\"Periode\", inplace=True)\n",
        "# Gabungkan kedua dataframe dengan Periode yang telah menjadi key column nya\n",
        "df = df_kunjungan.join(df_penjualan)\n",
        "# Ambillah variabel bebas dan bergantung df untuk keterlambatan 4 bulan\n",
        "# dan ubahlah menjadi numpy 1d narray\n",
        "x = df[\"penjualan permen\"][:-4].to_numpy()\n",
        "y = df[\"tingkat kunjungan ke dokter gigi\"][4:].to_numpy()\n",
        "# Hitunglah nilai rata-rata variabel bebas dan bergantung\n",
        "x_mean = x.mean()\n",
        "y_mean = y.mean()\n",
        "# Hitung nilai pembilang dan penyebut untuk m\n",
        "m_pembilang = ((x - x_mean) * (y - y_mean)).sum()\n",
        "m_penyebut = ((x - x_mean)**2).sum()\n",
        "# Hitung nilai koefisien regresi linier\n",
        "m = m_pembilang / m_penyebut\n",
        "b = y_mean - m * x_mean\n",
        "\n",
        "# Ambillah butir data variabel bebas yang belum digunakan\n",
        "x_new = df[\"penjualan permen\"][-4:].to_numpy()\n",
        "#  Gunakan x_new ke dalam persamaan regresi\n",
        "y_pred = m * x_new + b\n",
        "print(\"Prediksi tingkat kunjungan ke dokter gigi 1998-01 s/d 1998-04:\")\n",
        "for i, kunjungan in enumerate(y_pred):\n",
        "    print(\"1998-0%d: %4d kunjungan.\" % (i+1, round(kunjungan)))\n"
      ],
      "metadata": {
        "id": "EP8YwHlQi8Uc"
      },
      "execution_count": null,
      "outputs": []
    },
    {
      "cell_type": "code",
      "source": [],
      "metadata": {
        "id": "_UkkSheLmNwx"
      },
      "execution_count": null,
      "outputs": []
    },
    {
      "cell_type": "code",
      "source": [
        "# Import pandas \n",
        "import pandas as pd\n",
        "import numpy as np\n",
        "# Baca kedua dataset\n",
        "df_kunjungan = pd.read_csv(\"https://storage.googleapis.com/dqlab-dataset/kunjungan_dokter_gigi_kota_x_dqlab.tsv\", sep=\"\\t\")\n",
        "df_penjualan = pd.read_csv(\"https://storage.googleapis.com/dqlab-dataset/tingkat_penjualan_kota_x_dqlab.tsv\", sep=\"\\t\")\n",
        "# Gabungkan kolom Tahun dan Bulan menjadi kolom Periode dengan isi tiap barisnya memiliki format YYYY-MM \n",
        "str_bulan = lambda x: \"0\"+str(x) if x<10 else str(x)\n",
        "df_kunjungan[\"Periode\"] = df_kunjungan[\"Tahun\"].map(str) + \"-\" + df_kunjungan[\"Bulan\"].map(str_bulan)\n",
        "df_penjualan[\"Periode\"] = df_penjualan[\"Tahun\"].map(str) + \"-\" + df_penjualan[\"Bulan\"].map(str_bulan)\n",
        "# Drop kolom Tahun, Bulan dari df_kunjungan\n",
        "df_kunjungan.drop(columns=[\"Tahun\", \"Bulan\"], inplace=True)\n",
        "# Drop kolom Tahun, Bulan dan No dari df_penjualan\n",
        "df_penjualan.drop(columns=[\"Tahun\", \"Bulan\", \"No\"], inplace=True)\n",
        "# Set index kolom Periode\n",
        "df_kunjungan.set_index(\"Periode\", inplace=True)\n",
        "df_penjualan.set_index(\"Periode\", inplace=True)\n",
        "# Gabungkan kedua dataframe dengan Periode yang telah menjadi key column nya\n",
        "df = df_kunjungan.join(df_penjualan)\n",
        "\n",
        "# Importlah LinearRegression dari sklearn.linear_model\n",
        "from sklearn.linear_model import LinearRegression\n",
        "\n",
        "# Ambillah variabel bebas dan bergantung untuk keterlambatan 4 bulan\n",
        "# dan ubahlah menjadi numpy 2d narray melalui .reshape((-1,1))\n",
        "x = df[\"penjualan permen\"][:-4].to_numpy().reshape((-1,1))\n",
        "y = df[\"tingkat kunjungan ke dokter gigi\"][4:].to_numpy().reshape((-1,1))\n",
        "\n",
        "# Instansiasi LinearRegression ke dalam lr\n",
        "lr = LinearRegression()\n",
        "# Terapkan method fit pada variabel bebas dan bergantung\n",
        "lr.fit(x,y)\n",
        "\n",
        "# Ambillah butir data variabel bebas yang belum digunakan\n",
        "# dan ubahlah menjadi numpy 2d narray melalui .reshape((-1,1))\n",
        "x_new = df[\"penjualan permen\"][-4:].to_numpy().reshape((-1,1))\n",
        "# Prediksilah x_new dengan method predict\n",
        "y_pred = lr.predict(x_new)\n",
        "\n",
        "print(\"Persamaan regresi linier: y = %.4e * x + %.4f\\n\" % (lr.coef_, lr.intercept_))\n",
        "print(\"Prediksi tingkat kunjungan ke dokter gigi 1998-01 s/d 1998-04:\")\n",
        "for i, kunjungan in enumerate(y_pred):\n",
        "    print(\"1998-0%d: %4d kunjungan.\" % (i+1, round(kunjungan[0])))\n"
      ],
      "metadata": {
        "colab": {
          "base_uri": "https://localhost:8080/"
        },
        "id": "p-kZHPpbmNTd",
        "outputId": "84b6df29-dac3-4c70-9424-24bf5a3712a2"
      },
      "execution_count": 1,
      "outputs": [
        {
          "output_type": "stream",
          "name": "stdout",
          "text": [
            "Persamaan regresi linier: y = 2.3035e-04 * x + 12.9341\n",
            "\n",
            "Prediksi tingkat kunjungan ke dokter gigi 1998-01 s/d 1998-04:\n",
            "1998-01:   73 kunjungan.\n",
            "1998-02:   87 kunjungan.\n",
            "1998-03:  121 kunjungan.\n",
            "1998-04:  112 kunjungan.\n"
          ]
        }
      ]
    },
    {
      "cell_type": "markdown",
      "source": [
        "# Mini Project"
      ],
      "metadata": {
        "id": "0mSfswmirQ-E"
      }
    },
    {
      "cell_type": "code",
      "source": [
        "# Import pandas\n",
        "import pandas as pd\n",
        "# Baca kedua dataset\n",
        "df_kunjungan = pd.read_csv(\"https://storage.googleapis.com/dqlab-dataset/kunjungan_dokter_gigi_kota_x_dqlab.tsv\", sep=\"\\t\")\n",
        "df_penjualan = pd.read_csv(\"https://storage.googleapis.com/dqlab-dataset/tingkat_penjualan_kota_x_dqlab.tsv\", sep=\"\\t\")\n",
        "# Gabungkan kolom Tahun dan Bulan menjadi kolom Periode dengan isi tiap barisnya memiliki format YYYY-MM \n",
        "str_bulan = lambda x: \"0\"+str(x) if x<10 else str(x)\n",
        "df_kunjungan[\"Periode\"] = df_kunjungan[\"Tahun\"].map(str) + \"-\" + df_kunjungan[\"Bulan\"].map(str_bulan)\n",
        "df_penjualan[\"Periode\"] = df_penjualan[\"Tahun\"].map(str) + \"-\" + df_penjualan[\"Bulan\"].map(str_bulan)\n",
        "# Drop kolom Tahun, Bulan dari df_kunjungan\n",
        "df_kunjungan.drop(columns=[\"Tahun\", \"Bulan\"], inplace=True)\n",
        "# Drop kolom Tahun, Bulan dan No dari df_penjualan\n",
        "df_penjualan.drop(columns=[\"Tahun\", \"Bulan\", \"No\"], inplace=True)\n",
        "# Set index kolom Periode\n",
        "df_kunjungan.set_index(\"Periode\", inplace=True)\n",
        "df_penjualan.set_index(\"Periode\", inplace=True)\n",
        "# Gabungkan kedua dataframe dengan Periode yang telah menjadi key column nya\n",
        "df = df_kunjungan.join(df_penjualan)\n",
        "\n",
        "# Importlah numpy sebagai np dan stats dari scipy\n",
        "import numpy as np\n",
        "from scipy import stats\n",
        "\n",
        "# Ambillah variabel bebas dan bergantung untuk keterlambatan 4 bulan\n",
        "# dan ubahlah menjadi numpy 1d narray\n",
        "x = df[\"penjualan permen\"][:-4].to_numpy()\n",
        "y = df[\"tingkat kunjungan ke dokter gigi\"][4:].to_numpy()\n",
        "\n",
        "# Penggunaan numpy.polyfit\n",
        "print(\"Penggunaan numpy.polyfit:\")\n",
        "np_out = np.polyfit(x, y, 1)\n",
        "print(\"  Persamaan regresi linier: y = %.4e * x + %.4f\\n\" % (np_out[0], np_out[1]))\n",
        "\n",
        "# Penggunaan stats.linregress\n",
        "print(\"Penggunaan stats.linregress dari scipy:\")\n",
        "sclr_out = stats.linregress(x, y)\n",
        "print(\"  Persamaan regresi linier: y = %.4e * x + %.4f\\n\" % (sclr_out.slope, sclr_out.intercept))\n",
        "\n",
        "# Gunakan salah satu nilai saja dari np_out atau sclr_out\n",
        "# untuk koefisien regresi liniernya (gunakan sclr_out)\n",
        "\n",
        "# Ambillah butir data variabel bebas yang belum digunakan\n",
        "x_new = df[\"penjualan permen\"][-4:].to_numpy()\n",
        "#  Gunakan x_new ke dalam persamaan regresi linier\n",
        "y_pred = sclr_out.slope * x_new + sclr_out.intercept\n",
        "print(\"Prediksi tingkat kunjungan ke dokter gigi 1998-01 s/d 1998-04:\")\n",
        "for i, kunjungan in enumerate(y_pred):\n",
        "    print(\"1998-0%d: %4d kunjungan.\" % (i+1, round(kunjungan)))"
      ],
      "metadata": {
        "id": "UfZKcVparSxn"
      },
      "execution_count": null,
      "outputs": []
    }
  ]
}